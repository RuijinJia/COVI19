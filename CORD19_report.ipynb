{
 "cells": [
  {
   "cell_type": "markdown",
   "metadata": {
    "colab_type": "text",
    "id": "IBj0wvFJJxkd"
   },
   "source": [
    "<b>\n",
    "\n",
    "<p>\n",
    "<center>\n",
    "<font size=\"5\">\n",
    "\n",
    "</font>\n",
    "</center>\n",
    "</p>\n",
    "\n",
    "<p>\n",
    "<center>\n",
    "<font size=\"5\">\n",
    "COVID-19 Open Research Dataset Challenge (CORD-19)\n",
    "</font>\n",
    "</center>\n",
    "</p>\n",
    "\n",
    "<p>\n",
    "<center>\n",
    "<font size=\"4\">\n",
    "Authors: Chao Zhou, Ruijin Jia, Matteo Bucalossi\n",
    "</font>\n",
    "</center>\n",
    "</p>\n",
    "\n",
    "<p>\n",
    "<center>\n",
    "<font size=\"3\">\n",
    "Machine Learning I (DATS 6202), Spring 2020\n",
    "</font>\n",
    "</center>\n",
    "</p>\n",
    "\n",
    "<p>\n",
    "<center>\n",
    "<font size=\"2\">\n",
    "[GitHub Repository](https://github.com/matteobucalossi50/CORD-19-Challenge)\n",
    "</font>\n",
    "</center>\n",
    "</p>\n",
    "\n",
    "</b>"
   ]
  },
  {
   "cell_type": "markdown",
   "metadata": {
    "colab_type": "text",
    "id": "0ej6Xp8zJxke"
   },
   "source": [
    "### Introduction"
   ]
  },
  {
   "cell_type": "markdown",
   "metadata": {
    "colab_type": "text",
    "id": "SXIN6zbNJxkg"
   },
   "source": [
    "Last month, in response to the global COVID-19 pandemic, the White House and other leading research institutions, including the Allen Institute for AI, have prepared the COVID-19 Open Research Dataset (CORD-19): this dataset includes over 57,000 scholarly articles, most of them with full text, about COVID-19, SARS-CoV-2, and related coronaviruses. As literature published keeps increasing in scale, the medical community would need AI tools to quickly gain insights and directions to fight this disease in a timely manner.  \n",
    "Kaggle has issued a [competition](https://www.kaggle.com/allen-institute-for-ai/CORD-19-research-challenge) to develop such tools to help the medical community for this high priority scientific challenge. The public dataset represents a highly readable and clean collection of materials, and it is beeing updated constantly as more publications are released and added to the corpus.  \n",
    "\n",
    "Thanks to the minimal work on pre-processing required by this dataset, we decided to apply a Transformer model to extract sentence embeddings for machine learning task-specific \"heads\". Given that the pre-trained transformer by the UKPLab uses BERT, we decided to train and fine-tune the same transformer on SciBERT by Allen AI to obtain more relevant embeddings for a scientific and medical corpus.  \n",
    "We then used said embeddings to train different clustering algorithms for unsupervised learning: we used UAMP for dimensionality reduction, and HDBSCAN for density-based clustering while LDA for probability-based clustering. Also, we integrated a semantic search algorithm based on cosine similarity that can take user questions (we recommend to take ideas from [Tasks](https://www.kaggle.com/allen-institute-for-ai/CORD-19-research-challenge/tasks)) and provides the top 5 relevant articles from the corpus."
   ]
  },
  {
   "cell_type": "markdown",
   "metadata": {
    "colab_type": "text",
    "id": "QLsl2Q9JJxkh"
   },
   "source": [
    "# Data Preprocessing"
   ]
  },
  {
   "cell_type": "markdown",
   "metadata": {
    "colab_type": "text",
    "id": "u_YGFBc3Jxkh"
   },
   "source": [
    "Luckily the dataset had already been cleaned for the most part, and we only had to create an hashable corpus of text from json files. Once we had the body text and the abstact for each article, and its relevant metadata, in a dataframe, we cleaned the text columns of odd characters using regex.  Here we call the [preprocessing](https://github.com/matteobucalossi50/CORD-19-Challenge/blob/master/scripts/preprocessing.py) script to obtain a clean dataframe to use for our machine learning tasks."
   ]
  },
  {
   "cell_type": "code",
   "execution_count": 0,
   "metadata": {
    "colab": {},
    "colab_type": "code",
    "id": "fIhNPzEzJxki"
   },
   "outputs": [],
   "source": [
    "### load preprocessing.py\n",
    "### print dataframe.head or something\n",
    "import numpy as np\n",
    "import pandas as pd\n",
    "import os\n",
    "import glob\n",
    "import json\n",
    "import scispacy\n",
    "import spacy\n",
    "import tqdm\n",
    "import matplotlib.pyplot as plt\n",
    "\n",
    "import preprocessing"
   ]
  },
  {
   "cell_type": "code",
   "execution_count": 0,
   "metadata": {
    "colab": {},
    "colab_type": "code",
    "id": "aEwtfKDdAgZ6"
   },
   "outputs": [],
   "source": [
    "# directories and paths\n",
    "root_path = '/Users/Matteo/Desktop/ML1/project/data/'\n",
    "metadata_path = f'{root_path}/all_sources_metadata_2020-03-13.csv'\n",
    "metadata = pd.read_csv(metadata_path)\n",
    "metadata.head()\n",
    "metadata.info()\n",
    "\n",
    "all_json = glob.glob(f'{root_path}/**/*.json', recursive=True)   # here imo it's where shit happens\n",
    "print(len(all_json))"
   ]
  },
  {
   "cell_type": "code",
   "execution_count": 0,
   "metadata": {
    "colab": {},
    "colab_type": "code",
    "id": "O8EhNEaBAgZ9"
   },
   "outputs": [],
   "source": [
    "# read json files\n",
    "first_row = preprocessing.FileReader(all_json[0])\n",
    "print(first_row)"
   ]
  },
  {
   "cell_type": "code",
   "execution_count": 0,
   "metadata": {
    "colab": {},
    "colab_type": "code",
    "id": "-aaHcRxeAgaA"
   },
   "outputs": [],
   "source": [
    "# build dataframe\n",
    "df_covid = preprocessing.read_directory_files(all_json)\n",
    "df_covid.head()"
   ]
  },
  {
   "cell_type": "code",
   "execution_count": 0,
   "metadata": {
    "colab": {},
    "colab_type": "code",
    "id": "ZaPDe4JcAgaC"
   },
   "outputs": [],
   "source": [
    "# clean abstract and body_text\n",
    "cleaned_abstract = []\n",
    "for item in df_covid['abstract']:\n",
    "    item = preprocessing.clean_text(item)\n",
    "    cleaned_abstract.append(item)\n",
    "df_covid['abstract'] = cleaned_abstract\n",
    "\n",
    "#clean body_text\n",
    "cleaned_body = []\n",
    "for item in df_covid['body_text']:\n",
    "    item = preprocessing.clean_text(item)\n",
    "    cleaned_body.append(item)\n",
    "df_covid['body_text'] = cleaned_body"
   ]
  },
  {
   "cell_type": "code",
   "execution_count": 0,
   "metadata": {
    "colab": {},
    "colab_type": "code",
    "id": "Q6lVwDHUAgaE"
   },
   "outputs": [],
   "source": [
    "pd.DataFrame([[df_covid.shape[0], df_covid.shape[1]]], columns=['# rows', '# columns'])"
   ]
  },
  {
   "cell_type": "code",
   "execution_count": 0,
   "metadata": {
    "colab": {},
    "colab_type": "code",
    "id": "fSlSOYxGAgaI"
   },
   "outputs": [],
   "source": [
    "# save dataframe\n",
    "df_covid.to_pickle('/Users/Matteo/Desktop/ML1/project/data/preprocessed_dataframe.pkl')"
   ]
  },
  {
   "cell_type": "markdown",
   "metadata": {
    "colab_type": "text",
    "id": "6yhK5cPFJxkm"
   },
   "source": [
    "# Train Sentence Transformer on sciBERT"
   ]
  },
  {
   "cell_type": "markdown",
   "metadata": {
    "colab_type": "text",
    "id": "SKziMCBmJxkn"
   },
   "source": [
    "### Transformers"
   ]
  },
  {
   "cell_type": "markdown",
   "metadata": {
    "colab_type": "text",
    "id": "x3HdNSjzJxko"
   },
   "source": [
    "When it comes to natural language processing, the most recent developments have seen attention mechanisms prevailing versus more traditiona RNN models. These models use an architecture called Transformer, much faster and easier to parallelize than other networks. This is where these models revolutionize the field: an attention mechanism looks at an input sequence and decides at each step which other components of the sequence are important<sup>[1](https://medium.com/inside-machine-learning/what-is-a-transformer-d07dd1fbec04)</sup> - meaning it can replicate the way we actually process text, i.e. not only focusing on single words but also considering what's around it to make sense of the language.   \n",
    "\n",
    "Transformers are architectures for transforming a sequence into another by using Encoder and Decoder; yet, they only imply attention mechanisms without any Recurrent Networks (previously the go-to models for many NLP tasks). Here's an image<sup>[2](https://arxiv.org/abs/1706.03762)</sup>  to illustrate such Transformer architecture, with the Encoder part on the left and the Decoder on the right.\n",
    "![](images/Transformers_scheme.png)\n",
    "We won't bore you with the details of the model and its mathematical aspects, but we can point out two main characteristics of Transformers:\n",
    " - the Multi-Head Attention layers treat each word's relationship with every other word in the same sentence, basically paying attention to more words than just one when processing sequences. These layers will apply to every (input/target, depending on encoder/decoder) sentence the following equation: ![](images/scaled dot-prod attention.png)\n",
    " - the positional encodings of words are dense vectors (some extra word embeddings) representing the position of a word within the sentencem and are added to each word's embeddings.  \n",
    "\n"
   ]
  },
  {
   "cell_type": "markdown",
   "metadata": {
    "colab_type": "text",
    "id": "CWUH-KBOJxkp"
   },
   "source": [
    "### BERT & SciBERT"
   ]
  },
  {
   "cell_type": "markdown",
   "metadata": {
    "colab_type": "text",
    "id": "gFs06yP_Jxkq"
   },
   "source": [
    "A 2018 paper<sup>[3](https://arxiv.org/abs/1810.04805)</sup> published by various Google researchers brought to life a nowadays state-of-the-art application of a Transformer-based architectures for self-supervised pretraining on large corpus, BERT (*Bidirectional Encoder Representations from Transformers*).  BERT is a method of pre-training language representations, so that we can train a general-purpose model on an immense corpus and then use said model for downstream NLP tasks - its bidirectional characteristic allows to represent each word within its context (i.e. other words in the sentence, both on the left and right of represented word).\n",
    "\n",
    "If the original BERT trained a large (12-layer to 24-layer) Transformer on a large corpuse of Wikipedia and BookCorpus, more recent BERT-alike models have trained the same architecture on specific corpuses for domain-relevant tasks. For instance, in 2019 Allen AI released SciBERT,<sup>[4](https://arxiv.org/abs/1903.10676)</sup> a BERT model trained on huge corpus of scientific papers (82% of which from biomedical domain)  from [semanticscholar.org](https://www.semanticscholar.org/), which significantly improves BERT performance on downstream NLP tasks specific to scientific problems. We believe that using SciBERT for this project will yield much better results than the generic original BERT model given the specificity of our data."
   ]
  },
  {
   "cell_type": "markdown",
   "metadata": {
    "colab_type": "text",
    "id": "sr16_xEtJxkr"
   },
   "source": [
    "### Sentence-BERT"
   ]
  },
  {
   "cell_type": "markdown",
   "metadata": {
    "colab_type": "text",
    "id": "Xj5xGOstJxks"
   },
   "source": [
    "BERT-alike models described above have set a new bar for sentence-pair regressions tasks, but unfortunately they need both sentences to be fed in the Transformer, causing such a computational overhead that makes unsupervised tasks virtually impossible.  \n",
    "Thus, in 2019 researchers at UKPLab released SBERT,<sup>[5](https://arxiv.org/abs/1908.10084)</sup> a modification of pre-trained BERT to derive semantic sentence embeddings easily comparable for similarity and clustering. SBERT fine-tunes BERT-alike models with a siamese or triplet network structure to obtain such embeddings. Such a revolutionary paper proposed a model that still maintains BERT-level accuracy, while scaling down time complexity from 65 hours to 5 seconds for specific unsupervised NLP tasks, including similarity comparison, semantic search and clustering. (ah! exactly what we are trying to do here!)  \n",
    "Here's an illustration of the SBERT architecture as described in the paper (the structure would not change if the objective function was different, as it may be for different tasks): ![](images/SBERT architecture.png) "
   ]
  },
  {
   "cell_type": "markdown",
   "metadata": {
    "colab_type": "text",
    "id": "6it8mgZwJxkt"
   },
   "source": [
    "# Sentence embeddings for analysis"
   ]
  },
  {
   "cell_type": "markdown",
   "metadata": {
    "colab_type": "text",
    "id": "rOuKv-xOJxku"
   },
   "source": [
    "Now, we intend to perform some clustering as well as semantic search on the CORD-19 dataset. To do so, we need SBERT sentence embeddings so that we can accomplish these tasks in reasonable time. We decided that pre-trained embeddings on BERT would have not provide the SOTA outcome we were looking for, thus we fine-tuned our sentence embedding method on SciBERT to get science-specific sentence embeddings.  \n",
    "The SBERT library provides the code to tune any BERT-like model (in our case, SciBERT) on the Natural Language Inference (NLI) data, published by Allen AI. The following [script](https://github.com/matteobucalossi50/CORD-19-Challenge/blob/master/scripts/training_scibert.py) trained SciBERT on the NLI dataset using a Softmax Classifier as training loss and the STS (Semantic Text Similarity) dataset as benchmark for evaluation, and provided us a file-tuned sentence embedder to derive embeddings for our clustering and search tasks on the CORD-19 dataset."
   ]
  },
  {
   "cell_type": "markdown",
   "metadata": {
    "colab_type": "text",
    "id": "EFnZFLoMAgaQ"
   },
   "source": [
    "```python\n",
    "# select one Transformer\n",
    "model_name = 'allenai/scibert_scivocab_uncased'\n",
    "\n",
    "# Use sciBERT model for mapping tokens to embeddings\n",
    "word_embedding_model = models.BERT(model_name)\n",
    "\n",
    "# Apply mean pooling to get one fixed sized sentence vector\n",
    "pooling_model = models.Pooling(word_embedding_model.get_word_embedding_dimension(),\n",
    "                               pooling_mode_mean_tokens=True,\n",
    "                               pooling_mode_cls_token=False,\n",
    "                               pooling_mode_max_tokens=False)\n",
    "\n",
    "model = SentenceTransformer(modules=[word_embedding_model, pooling_model])\n",
    "\n",
    "# Convert the dataset to a DataLoader ready for training\n",
    "train_data = SentencesDataset(nli_reader.get_examples('train.gz'), model=model)\n",
    "train_dataloader = DataLoader(train_data, shuffle=True, batch_size=batch_size)\n",
    "train_loss = losses.SoftmaxLoss(model=model, sentence_embedding_dimension=model.get_sentence_embedding_dimension(), num_labels=train_num_labels)\n",
    "\n",
    "dev_data = SentencesDataset(examples=sts_reader.get_examples('sts-dev.csv'), model=model)\n",
    "dev_dataloader = DataLoader(dev_data, shuffle=False, batch_size=batch_size)\n",
    "evaluator = EmbeddingSimilarityEvaluator(dev_dataloader)\n",
    "\n",
    "num_epochs = 2\n",
    "warmup_steps = math.ceil(len(train_dataloader) * num_epochs / batch_size * 0.1) #10% of train data for warm-up\n",
    "# Train the model\n",
    "model.fit(train_objectives=[(train_dataloader, train_loss)],\n",
    "          evaluator=evaluator,\n",
    "          epochs=num_epochs,\n",
    "          evaluation_steps=1000,\n",
    "          warmup_steps=warmup_steps,\n",
    "          output_path=model_save_path\n",
    "          )\n",
    "```"
   ]
  },
  {
   "cell_type": "code",
   "execution_count": 0,
   "metadata": {
    "colab": {},
    "colab_type": "code",
    "id": "YJzAc_otJxku"
   },
   "outputs": [],
   "source": [
    "The training of the sentence transformer took eventually around 5 hours when performed on Kaggle notebook with GPU."
   ]
  },
  {
   "cell_type": "markdown",
   "metadata": {
    "colab_type": "text",
    "id": "5j3hkLQKJxkz"
   },
   "source": [
    "At this point, we can simply use our fine-tuned model (perfect for our biomedical dataset) to encode our corpus. This script will provide the embeddings we need, both for the abstract and separately for the full text of each article. We will then access these embeddings in the dataframe for downstream tasks below."
   ]
  },
  {
   "cell_type": "code",
   "execution_count": 0,
   "metadata": {
    "colab": {},
    "colab_type": "code",
    "id": "C5t_5xNLJxk0"
   },
   "outputs": [],
   "source": [
    "## import embeddings.py\n",
    "import pandas as pd\n",
    "from sentence_transformers import SentenceTransformer\n",
    "import embeddings\n",
    "\n",
    "# download pre-trained model\n",
    "model = SentenceTransformer('training_nli_allenai-scibert_scivocab_uncased-2020-04-26_13-22-06') #this or the model we trained and saved\n",
    "\n",
    "# import dataframe\n",
    "df_covid = pd.read_pickle('/Users/Matteo/Desktop/ML1/project/data/preprocessed_dataframe.pkl')  # hopefully this works\n"
   ]
  },
  {
   "cell_type": "code",
   "execution_count": 0,
   "metadata": {
    "colab": {},
    "colab_type": "code",
    "id": "1IVLOr9KAgaW"
   },
   "outputs": [],
   "source": [
    "# add abstract embeddings to dataframe\n",
    "df_covid['abs_embeddings'] = embeddings.sent_embeddings(df_covid['abstract'], model)\n",
    "\n",
    "# save dataframe\n",
    "df_covid.to_pickle('./data/preprocessed_dataframe.pkl')\n",
    "\n",
    "df_covid.head()"
   ]
  },
  {
   "cell_type": "code",
   "execution_count": 0,
   "metadata": {
    "colab": {},
    "colab_type": "code",
    "id": "ba02rWB2AgaY"
   },
   "outputs": [],
   "source": [
    "# add full text embeddings to dataframe\n",
    "df_covid['body_embeddings'] = embeddings.sent_embeddings(df_covid['body_text'], model)\n",
    "\n",
    "# save dataframe\n",
    "df_covid.to_pickle('./data/preprocessed_dataframe.pkl')\n",
    "\n",
    "df_covid.head()"
   ]
  },
  {
   "cell_type": "markdown",
   "metadata": {
    "colab_type": "text",
    "id": "M_EffQU0Jxk4"
   },
   "source": [
    "# Clustering "
   ]
  },
  {
   "cell_type": "markdown",
   "metadata": {
    "colab_type": "text",
    "id": "ai2NaZnVRw6g"
   },
   "source": [
    "Now we are going to reduce the dimensions and do clustering. UMAP is applied to reduce dimension keeping 95% variance, which will retain meaningful information and removes noisies to make clustering easier. Then HDBSCAN and K-Means are applied to cluster and labelled group. Finally we are going to modeling topic in each clustering group by LDA. "
   ]
  },
  {
   "cell_type": "markdown",
   "metadata": {
    "colab_type": "text",
    "id": "Ioonc-5RQ8zF"
   },
   "source": [
    "## UMAP"
   ]
  },
  {
   "cell_type": "markdown",
   "metadata": {
    "colab_type": "text",
    "id": "N3XW50wtPfSO"
   },
   "source": [
    "Uniform Manifold Approximation and Projection (UMAP)<sup>[6](https://arxiv.org/abs/1802.03426)</sup> is an algorithm for dimension reduction based on manifold learning techniques and ideas from topological data analysis. It provides a very general framework for approaching manifold learning and dimension reduction, but can also provide specific concrete realizations and can preserve more of the global structure with superior run time performance."
   ]
  },
  {
   "cell_type": "code",
   "execution_count": 0,
   "metadata": {
    "colab": {},
    "colab_type": "code",
    "id": "BSxszVvcWcjT"
   },
   "outputs": [],
   "source": [
    "!pip install umap"
   ]
  },
  {
   "cell_type": "code",
   "execution_count": 0,
   "metadata": {
    "colab": {},
    "colab_type": "code",
    "id": "fONaz83-Ar6p"
   },
   "outputs": [],
   "source": [
    "pip install matplotlib"
   ]
  },
  {
   "cell_type": "code",
   "execution_count": 0,
   "metadata": {
    "colab": {},
    "colab_type": "code",
    "id": "nvoFPFbpAvvL"
   },
   "outputs": [],
   "source": [
    "import umap.umap_ as umap\n",
    "import matplotlib.pyplot as plt"
   ]
  },
  {
   "cell_type": "code",
   "execution_count": 0,
   "metadata": {
    "colab": {},
    "colab_type": "code",
    "id": "Wi8Fa2MIBN8v"
   },
   "outputs": [],
   "source": [
    "#open pickle file to extract vextorization\n",
    "df=open('/content/drive/My Drive/Colab Notebooks/final/preprocessed_dataframe_withabs.pkl','rb')"
   ]
  },
  {
   "cell_type": "code",
   "execution_count": 0,
   "metadata": {
    "colab": {},
    "colab_type": "code",
    "id": "TrhbzezEBZOc"
   },
   "outputs": [],
   "source": [
    "import pickle\n",
    "import pandas as pd\n",
    "import numpy as np"
   ]
  },
  {
   "cell_type": "code",
   "execution_count": 0,
   "metadata": {
    "colab": {},
    "colab_type": "code",
    "id": "ZIKqliKuBcad"
   },
   "outputs": [],
   "source": [
    "data3=pickle.load(df)"
   ]
  },
  {
   "cell_type": "code",
   "execution_count": 0,
   "metadata": {
    "colab": {},
    "colab_type": "code",
    "id": "GrnJKUg8AyXy"
   },
   "outputs": [],
   "source": [
    "reducer = umap.UMAP(n_neighbors = 5)"
   ]
  },
  {
   "cell_type": "code",
   "execution_count": 0,
   "metadata": {
    "colab": {},
    "colab_type": "code",
    "id": "JCTsyBHWA3Od"
   },
   "outputs": [],
   "source": [
    "#for abstract\n",
    "numpy_array=data3['abs_embeddings'][0]\n",
    "for i in range(1,len(data3['abs_embeddings'])):\n",
    "  numpy_array=np.row_stack((numpy_array,data3['abs_embeddings'][i]))"
   ]
  },
  {
   "cell_type": "code",
   "execution_count": 0,
   "metadata": {
    "colab": {},
    "colab_type": "code",
    "id": "hwArQ4NWMC19"
   },
   "outputs": [],
   "source": [
    "#for body text\n",
    "numpy_array2=data3['text_embeddings'][0]\n",
    "for i in range(1,len(data3['text_embeddings'])):\n",
    "  numpy_array2=np.row_stack((numpy_array2,data3['text_embeddings'][i]))"
   ]
  },
  {
   "cell_type": "markdown",
   "metadata": {
    "colab_type": "text",
    "id": "AkxVWsZNCVBW"
   },
   "source": [
    "###Visulization"
   ]
  },
  {
   "cell_type": "markdown",
   "metadata": {
    "colab_type": "text",
    "id": "uRFcLy-IMZQV"
   },
   "source": [
    "#####Abstract"
   ]
  },
  {
   "cell_type": "code",
   "execution_count": 0,
   "metadata": {
    "colab": {},
    "colab_type": "code",
    "id": "b4elmY6cA73h"
   },
   "outputs": [],
   "source": [
    "# reduce to two dimentions and plot result\n",
    "clusterable_embedding = reducer.fit_transform(np.asmatrix(numpy_array))\n",
    "plt.figure(figsize=(12,8))\n",
    "plt.scatter(clusterable_embedding[:,0],clusterable_embedding[:,1])\n",
    "clusterable_embedding.shape\n",
    "print(clusterable_embedding)"
   ]
  },
  {
   "cell_type": "markdown",
   "metadata": {
    "colab_type": "text",
    "id": "Q_V7RZEMMcLD"
   },
   "source": [
    "#####Body Text"
   ]
  },
  {
   "cell_type": "code",
   "execution_count": 0,
   "metadata": {
    "colab": {},
    "colab_type": "code",
    "id": "quRd8x5eMVHI"
   },
   "outputs": [],
   "source": [
    "clusterable_embedding2 = reducer.fit_transform(np.asmatrix(numpy_array2))\n",
    "plt.figure(figsize=(12,8))\n",
    "plt.scatter(clusterable_embedding2[:,0],clusterable_embedding2[:,1])\n",
    "clusterable_embedding2.shape\n",
    "print(clusterable_embedding2)"
   ]
  },
  {
   "cell_type": "markdown",
   "metadata": {
    "colab_type": "text",
    "id": "aTYLWxxGJxk4"
   },
   "source": [
    "## HDBSCAN"
   ]
  },
  {
   "cell_type": "markdown",
   "metadata": {
    "colab_type": "text",
    "id": "7FganRuEWnw6"
   },
   "source": [
    "We are trying to run vectorization and separate the literature by two ways, the first one is HDBSCAN. HDBSCAN is a clustering algorithm developed by Campello, Moulavi, and Sander.<sup>[7](https://link.springer.com/chapter/10.1007%2F978-3-642-37456-2_14)</sup> It extends DBSCAN (a classic density-based spatial algorithm) by converting it into a hierarchical clustering algorithm, and then using a technique to extract a flat clustering based in the stability of clusters. "
   ]
  },
  {
   "cell_type": "code",
   "execution_count": 0,
   "metadata": {
    "colab": {},
    "colab_type": "code",
    "id": "jJKpoFwAYG9U"
   },
   "outputs": [],
   "source": [
    "!pip install hdbscan"
   ]
  },
  {
   "cell_type": "code",
   "execution_count": 0,
   "metadata": {
    "colab": {},
    "colab_type": "code",
    "id": "lnjNitoACJBB"
   },
   "outputs": [],
   "source": [
    "import hdbscan\n",
    "import numpy as np\n",
    "import seaborn as sns\n",
    "import pandas as pd"
   ]
  },
  {
   "cell_type": "code",
   "execution_count": 0,
   "metadata": {
    "colab": {},
    "colab_type": "code",
    "id": "U0IXfZxzCS83"
   },
   "outputs": [],
   "source": [
    "#Abstract\n",
    "clusterer = hdbscan.HDBSCAN(min_cluster_size=2, gen_min_span_tree=True)\n",
    "clusterer=clusterer.fit(clusterable_embedding)"
   ]
  },
  {
   "cell_type": "code",
   "execution_count": 0,
   "metadata": {
    "colab": {},
    "colab_type": "code",
    "id": "chQ3QLLwMsCL"
   },
   "outputs": [],
   "source": [
    "#Body Text\n",
    "clusterer2=clusterer.fit(clusterable_embedding2)"
   ]
  },
  {
   "cell_type": "markdown",
   "metadata": {
    "colab_type": "text",
    "id": "4TMk0L7yJxk5"
   },
   "source": [
    "### visualization"
   ]
  },
  {
   "cell_type": "markdown",
   "metadata": {
    "colab_type": "text",
    "id": "L_AagW6BCjaN"
   },
   "source": [
    "#### Abstract"
   ]
  },
  {
   "cell_type": "code",
   "execution_count": 0,
   "metadata": {
    "colab": {},
    "colab_type": "code",
    "id": "d4unvRRtWAIk"
   },
   "outputs": [],
   "source": [
    "#Build the minimum spanning tree\n",
    "clusterer.minimum_spanning_tree_.plot(edge_cmap='viridis',\n",
    "                                      edge_alpha=0.6,\n",
    "                                      node_size=80,\n",
    "                                      edge_linewidth=2)"
   ]
  },
  {
   "cell_type": "code",
   "execution_count": 0,
   "metadata": {
    "colab": {},
    "colab_type": "code",
    "id": "Exbn_wawCweH"
   },
   "outputs": [],
   "source": [
    "#Build the cluster hierarchy\n",
    "clusterer.single_linkage_tree_.plot(cmap='viridis', colorbar=True)"
   ]
  },
  {
   "cell_type": "code",
   "execution_count": 0,
   "metadata": {
    "colab": {},
    "colab_type": "code",
    "id": "zlVojO4DCzAE"
   },
   "outputs": [],
   "source": [
    "#Condense the cluster tree\n",
    "clusterer.condensed_tree_.plot()"
   ]
  },
  {
   "cell_type": "code",
   "execution_count": 0,
   "metadata": {
    "colab": {},
    "colab_type": "code",
    "id": "-xpDgPQdC15v"
   },
   "outputs": [],
   "source": [
    "#Extract the clusters\n",
    "clusterer.condensed_tree_.plot(select_clusters=True, selection_palette=sns.color_palette())"
   ]
  },
  {
   "cell_type": "code",
   "execution_count": 0,
   "metadata": {
    "colab": {},
    "colab_type": "code",
    "id": "XQ7xdTjxC45A"
   },
   "outputs": [],
   "source": [
    "#clusterer = hdbscan.HDBSCAN(min_cluster_size=10, prediction_data=True).fit(clusterable_embedding)\n",
    "color_palette = sns.color_palette('Paired',max(clusterer.labels_))\n",
    "cluster_colors = [color_palette[x] if x >= 0 and x<max(clusterer.labels_)\n",
    "                  else (0.5, 0.5, 0.5)\n",
    "                  for x in clusterer.labels_]\n",
    "cluster_member_colors = [sns.desaturate(x, p) for x, p in\n",
    "                        zip(cluster_colors, clusterer.probabilities_)]\n",
    "plt.scatter(*clusterable_embedding.T, s=50, linewidth=0, c=cluster_member_colors, alpha=0.25)"
   ]
  },
  {
   "cell_type": "markdown",
   "metadata": {
    "colab_type": "text",
    "id": "XRiX7DtAC7eg"
   },
   "source": [
    "we got more than 1000 clustering groups totally, so HDBSCAN may not be the best way to cluster, and then we will try K-Means"
   ]
  },
  {
   "cell_type": "markdown",
   "metadata": {
    "colab_type": "text",
    "id": "-c7oKIndL3O1"
   },
   "source": [
    "####Body Text"
   ]
  },
  {
   "cell_type": "code",
   "execution_count": 0,
   "metadata": {
    "colab": {},
    "colab_type": "code",
    "id": "KTxyqHYvMkMM"
   },
   "outputs": [],
   "source": [
    "#Build the minimum spanning tree\n",
    "clusterer2.minimum_spanning_tree_.plot(edge_cmap='viridis',\n",
    "                                      edge_alpha=0.6,\n",
    "                                      node_size=80,\n",
    "                                      edge_linewidth=2)"
   ]
  },
  {
   "cell_type": "code",
   "execution_count": 0,
   "metadata": {
    "colab": {},
    "colab_type": "code",
    "id": "d3_3oIkINNZ0"
   },
   "outputs": [],
   "source": [
    "#Build the cluster hierarchy\n",
    "clusterer2.single_linkage_tree_.plot(cmap='viridis', colorbar=True)"
   ]
  },
  {
   "cell_type": "code",
   "execution_count": 0,
   "metadata": {
    "colab": {},
    "colab_type": "code",
    "id": "4t0BZ_ffNRI0"
   },
   "outputs": [],
   "source": [
    "#Condense the cluster tree\n",
    "clusterer2.condensed_tree_.plot()"
   ]
  },
  {
   "cell_type": "code",
   "execution_count": 0,
   "metadata": {
    "colab": {},
    "colab_type": "code",
    "id": "Vn8pLF8cNUJM"
   },
   "outputs": [],
   "source": [
    "#Extract the clusters\n",
    "clusterer2.condensed_tree_.plot(select_clusters=True, selection_palette=sns.color_palette())"
   ]
  },
  {
   "cell_type": "code",
   "execution_count": 0,
   "metadata": {
    "colab": {},
    "colab_type": "code",
    "id": "ppXhRlM3NW2d"
   },
   "outputs": [],
   "source": [
    "#clusterer = hdbscan.HDBSCAN(min_cluster_size=10, prediction_data=True).fit(clusterable_embedding)\n",
    "color_palette = sns.color_palette('Paired',max(clusterer2.labels_))\n",
    "cluster_colors = [color_palette[x] if x >= 0 and x<max(clusterer2.labels_)\n",
    "                  else (0.5, 0.5, 0.5)\n",
    "                  for x in clusterer.labels_]\n",
    "cluster_member_colors2 = [sns.desaturate(x, p) for x, p in\n",
    "                        zip(cluster_colors, clusterer2.probabilities_)]\n",
    "plt.scatter(*clusterable_embedding2.T, s=50, linewidth=0, c=cluster_member_colors2, alpha=0.25)"
   ]
  },
  {
   "cell_type": "markdown",
   "metadata": {
    "colab_type": "text",
    "id": "oNpFVu8fJxk5"
   },
   "source": [
    "## K-means"
   ]
  },
  {
   "cell_type": "markdown",
   "metadata": {
    "colab_type": "text",
    "id": "U7evGbOMYt9b"
   },
   "source": [
    "Then we will see what k-means clustering to be like and what makes it different from HDBSCAN. First step is finding best k-value. Distortion computes the sum of squared distances from each point to its assigned center. When distortion is plotted against k there will be a k value after which decreases in distortion are minimal. This is the desired number of clusters."
   ]
  },
  {
   "cell_type": "code",
   "execution_count": 0,
   "metadata": {
    "colab": {},
    "colab_type": "code",
    "id": "pAvh3XTbZQIK"
   },
   "outputs": [],
   "source": [
    "from sklearn.cluster import KMeans"
   ]
  },
  {
   "cell_type": "markdown",
   "metadata": {
    "colab_type": "text",
    "id": "Vyqd8jSBNuVs"
   },
   "source": [
    "####Abstract"
   ]
  },
  {
   "cell_type": "code",
   "execution_count": 0,
   "metadata": {
    "colab": {},
    "colab_type": "code",
    "id": "hkmyfljVJ7Lj"
   },
   "outputs": [],
   "source": [
    "from scipy.spatial.distance import cdist\n",
    "distortions = []\n",
    "K = range(2, 40)\n",
    "for k in K:\n",
    "    k_means = KMeans(n_clusters=k, random_state=42).fit(clusterable_embedding)\n",
    "    k_means.fit(clusterable_embedding)\n",
    "    distortions.append(sum(np.min(cdist(clusterable_embedding, k_means.cluster_centers_, 'euclidean'), axis=1)) / pd.DataFrame(data3).shape[0])"
   ]
  },
  {
   "cell_type": "code",
   "execution_count": 0,
   "metadata": {
    "colab": {},
    "colab_type": "code",
    "id": "KYpSvGqtKAyc"
   },
   "outputs": [],
   "source": [
    "X_line = [K[0], K[-1]]\n",
    "Y_line = [distortions[0], distortions[-1]]\n",
    "\n",
    "# Plot the elbow\n",
    "plt.plot(K, distortions, 'b-')\n",
    "plt.plot(X_line, Y_line, 'r')\n",
    "plt.xlabel('k')\n",
    "plt.ylabel('Distortion')\n",
    "plt.title('The Elbow Method showing the optimal k')\n",
    "plt.show()"
   ]
  },
  {
   "cell_type": "markdown",
   "metadata": {
    "colab_type": "text",
    "id": "eJyg8KshKDrL"
   },
   "source": [
    "The best k-value is about 9 to 12, so we determined the best one is 10"
   ]
  },
  {
   "cell_type": "code",
   "execution_count": 0,
   "metadata": {
    "colab": {},
    "colab_type": "code",
    "id": "CPhhNRRxDPYw"
   },
   "outputs": [],
   "source": [
    "kmeans = KMeans(n_clusters=10, random_state=0).fit_predict(clusterable_embedding)\n",
    "kmeans"
   ]
  },
  {
   "cell_type": "code",
   "execution_count": 0,
   "metadata": {
    "colab": {},
    "colab_type": "code",
    "id": "Q8VBTgPgDTlw"
   },
   "outputs": [],
   "source": [
    "kmeans_clustering_model=KMeans(n_clusters=10, random_state=0)\n",
    "kmeans_clustering_model.fit(clusterable_embedding)\n",
    "kmeans_label=kmeans_clustering_model.labels_"
   ]
  },
  {
   "cell_type": "code",
   "execution_count": 0,
   "metadata": {
    "colab": {},
    "colab_type": "code",
    "id": "EgtWDM2uDaKp"
   },
   "outputs": [],
   "source": [
    "data3['cluster_']=kmeans_label"
   ]
  },
  {
   "cell_type": "markdown",
   "metadata": {
    "colab_type": "text",
    "id": "wKyc19AdDsD5"
   },
   "source": [
    "Now we can compare to ways of clustering. Usually K-Means works well for “round” or spherical, and when most dense in the center of the sphere\n",
    "not contaminated by noise/outliers. Our dataset does not centered with arbitrary shapes and too many noises, therefore K-Means works well here."
   ]
  },
  {
   "cell_type": "markdown",
   "metadata": {
    "colab_type": "text",
    "id": "fCsyWHN-Jxk7"
   },
   "source": [
    "### visualization"
   ]
  },
  {
   "cell_type": "code",
   "execution_count": 0,
   "metadata": {
    "colab": {},
    "colab_type": "code",
    "id": "Rl3GR5mLZVpe"
   },
   "outputs": [],
   "source": [
    "plt.scatter(clusterable_embedding[:,0],clusterable_embedding[:,1], c=kmeans, cmap='rainbow')"
   ]
  },
  {
   "cell_type": "markdown",
   "metadata": {
    "colab_type": "text",
    "id": "h8-IEzEiNzF_"
   },
   "source": [
    "####Body Text"
   ]
  },
  {
   "cell_type": "code",
   "execution_count": 0,
   "metadata": {
    "colab": {},
    "colab_type": "code",
    "id": "4EzKcgDpN17H"
   },
   "outputs": [],
   "source": [
    "from scipy.spatial.distance import cdist\n",
    "distortions2 = []\n",
    "K2 = range(2, 40)\n",
    "for k in K:\n",
    "    k_means2 = KMeans(n_clusters=k, random_state=42).fit(clusterable_embedding2)\n",
    "    k_means2.fit(clusterable_embedding2)\n",
    "    distortions2.append(sum(np.min(cdist(clusterable_embedding2, k_means2.cluster_centers_, 'euclidean'), axis=1)) / pd.DataFrame(data3).shape[0])"
   ]
  },
  {
   "cell_type": "code",
   "execution_count": 0,
   "metadata": {
    "colab": {},
    "colab_type": "code",
    "id": "qkgELatAN_Xl"
   },
   "outputs": [],
   "source": [
    "X_line2 = [K2[0], K2[-1]]\n",
    "Y_line2 = [distortions2[0], distortions2[-1]]\n",
    "\n",
    "# Plot the elbow\n",
    "plt.plot(K2, distortions2, 'b-')\n",
    "plt.plot(X_line2, Y_line2, 'r')\n",
    "plt.xlabel('k')\n",
    "plt.ylabel('Distortion')\n",
    "plt.title('The Elbow Method showing the optimal k')\n",
    "plt.show()"
   ]
  },
  {
   "cell_type": "code",
   "execution_count": 0,
   "metadata": {
    "colab": {},
    "colab_type": "code",
    "id": "I7A2Hu1dOMPs"
   },
   "outputs": [],
   "source": [
    "kmeans2 = KMeans(n_clusters=10, random_state=0).fit_predict(clusterable_embedding2)\n",
    "kmeans2"
   ]
  },
  {
   "cell_type": "code",
   "execution_count": 0,
   "metadata": {
    "colab": {},
    "colab_type": "code",
    "id": "fn-V_UUuORa_"
   },
   "outputs": [],
   "source": [
    "kmeans_clustering_model2=KMeans(n_clusters=10, random_state=0)\n",
    "kmeans_clustering_model2.fit(clusterable_embedding2)\n",
    "kmeans_label2=kmeans_clustering_model2.labels_"
   ]
  },
  {
   "cell_type": "code",
   "execution_count": 0,
   "metadata": {
    "colab": {},
    "colab_type": "code",
    "id": "VpyG_4UAOW-7"
   },
   "outputs": [],
   "source": [
    "data3['textcluster_']=kmeans_label2"
   ]
  },
  {
   "cell_type": "markdown",
   "metadata": {
    "colab_type": "text",
    "id": "hCYm8P2WJxk8"
   },
   "source": [
    "## LDA"
   ]
  },
  {
   "cell_type": "markdown",
   "metadata": {
    "colab_type": "text",
    "id": "fjUlPQp-aHHk"
   },
   "source": [
    "This part we are going to divided clustering groups by topic labelled by latent Dirichlet Allocation.<sup>[9](http://www.jmlr.org/papers/volume3/blei03a/blei03a.pdf)</sup> LDA is a generative statistical model that uses unobserved groups to explain why some parts of a corpus are similar. The model posits that each document is a mixture of a small number of topics, where each topic is described by a distribution of words and each word's presence in the document can be attributed to one of these topics.   \n",
    "Let's see now what topics our model identifies:"
   ]
  },
  {
   "cell_type": "code",
   "execution_count": 0,
   "metadata": {
    "colab": {},
    "colab_type": "code",
    "id": "0KqrpRNfAgax"
   },
   "outputs": [],
   "source": [
    "## call lda"
   ]
  },
  {
   "cell_type": "markdown",
   "metadata": {
    "colab_type": "text",
    "id": "avDlTthNJxk9"
   },
   "source": [
    "### visualization"
   ]
  },
  {
   "cell_type": "markdown",
   "metadata": {
    "colab_type": "text",
    "id": "XycuN3GUJxk_"
   },
   "source": [
    "# Semantic search"
   ]
  },
  {
   "cell_type": "markdown",
   "metadata": {
    "colab_type": "text",
    "id": "eZ1A7CvOJxlA"
   },
   "source": [
    "### Cosine similarity\n",
    "An amazing use of the embeddings we obtained with our fine-tuned Sentence Transformer model is to query the corpus and find the most similar embeddings to the query's embeddings. This can be simply done by calculating cosine similarity among embeddings, and then select the least-distant ones as the most relevant to the query.  \n",
    "Here we propose a semantic search system where the user can input a question about COVID-19 and they will get the top 5 most relevant articles from the corpus. We suggest to interrogate our system with questions taken from the Kaggle's suggested [tasks](https://www.kaggle.com/allen-institute-for-ai/CORD-19-research-challenge/tasks)."
   ]
  },
  {
   "cell_type": "code",
   "execution_count": 0,
   "metadata": {
    "colab": {},
    "colab_type": "code",
    "id": "zsLj8wEdJxlD"
   },
   "outputs": [],
   "source": [
    "## call searches and get table out\n",
    "import searches\n",
    "\n",
    "# import model\n",
    "# embedder = SentenceTransformer('bert-large-nli-mean-tokens') #this or the model we trained and saved\n",
    "\n",
    "# load corpus\n",
    "df_covid = pd.read_pickle('./data/preprocessed_dataframe.pkl')\n"
   ]
  },
  {
   "cell_type": "code",
   "execution_count": 0,
   "metadata": {
    "colab": {},
    "colab_type": "code",
    "id": "uQU0o492Aga1"
   },
   "outputs": [],
   "source": [
    "# asking the user\n",
    "query = input('What would you like to know from CORD-19? ')\n",
    "print('\\nUse abstracts:')\n",
    "searches.sem_search(query, embedder, df_covid, df_covid['abs_embeddings'])\n"
   ]
  },
  {
   "cell_type": "code",
   "execution_count": 0,
   "metadata": {
    "colab": {},
    "colab_type": "code",
    "id": "2StAq7D2Aga3"
   },
   "outputs": [],
   "source": [
    "# asking the user (slower)\n",
    "print('\\nUse full text:')\n",
    "searches.sem_search(query, embedder, df_covid, df_covid['body_embeddings'])\n"
   ]
  },
  {
   "cell_type": "markdown",
   "metadata": {
    "colab_type": "text",
    "id": "-CUCxMIpJxlF"
   },
   "source": [
    "# Conclusion"
   ]
  },
  {
   "cell_type": "markdown",
   "metadata": {
    "colab_type": "text",
    "id": "TMOq2uhLJxlF"
   },
   "source": [
    "Great AI stuff I guess!"
   ]
  },
  {
   "cell_type": "code",
   "execution_count": 0,
   "metadata": {
    "colab": {},
    "colab_type": "code",
    "id": "zb0XVjFxAga6"
   },
   "outputs": [],
   "source": []
  }
 ],
 "metadata": {
  "colab": {
   "name": "CORD19_report.ipynb",
   "provenance": []
  },
  "kernelspec": {
   "display_name": "Python 3",
   "language": "python",
   "name": "python3"
  },
  "language_info": {
   "codemirror_mode": {
    "name": "ipython",
    "version": 3
   },
   "file_extension": ".py",
   "mimetype": "text/x-python",
   "name": "python",
   "nbconvert_exporter": "python",
   "pygments_lexer": "ipython3",
   "version": "3.7.4"
  }
 },
 "nbformat": 4,
 "nbformat_minor": 1
}
