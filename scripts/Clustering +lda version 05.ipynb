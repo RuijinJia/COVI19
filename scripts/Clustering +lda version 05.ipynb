{
  "nbformat": 4,
  "nbformat_minor": 0,
  "metadata": {
    "colab": {
      "name": "Untitled2.ipynb",
      "provenance": []
    },
    "kernelspec": {
      "name": "python3",
      "display_name": "Python 3"
    }
  },
  "cells": [
    {
      "cell_type": "code",
      "metadata": {
        "id": "oDsMTGkOJIcz",
        "colab_type": "code",
        "colab": {
          "base_uri": "https://localhost:8080/",
          "height": 170
        },
        "outputId": "2931db01-afef-4873-9591-a3d8e3d62775"
      },
      "source": [
        "!pip install umap"
      ],
      "execution_count": 1,
      "outputs": [
        {
          "output_type": "stream",
          "text": [
            "Collecting umap\n",
            "  Downloading https://files.pythonhosted.org/packages/4b/46/08ab68936625400fe690684428d4db4764f49b406782cc133df1d0299d06/umap-0.1.1.tar.gz\n",
            "Building wheels for collected packages: umap\n",
            "  Building wheel for umap (setup.py) ... \u001b[?25l\u001b[?25hdone\n",
            "  Created wheel for umap: filename=umap-0.1.1-cp36-none-any.whl size=3569 sha256=82dac8f3180234031cb485c2e1f3f4900a6f059641e6fbe0f68ba04fbbedfa69\n",
            "  Stored in directory: /root/.cache/pip/wheels/7b/29/33/b4d917dc95f69c0a060e2ab012d95e15db9ed4cc0b94ccac26\n",
            "Successfully built umap\n",
            "Installing collected packages: umap\n",
            "Successfully installed umap-0.1.1\n"
          ],
          "name": "stdout"
        }
      ]
    },
    {
      "cell_type": "markdown",
      "metadata": {
        "id": "yYZOmE9HJRjF",
        "colab_type": "text"
      },
      "source": [
        "Dimensions Reduction using UAMP"
      ]
    },
    {
      "cell_type": "code",
      "metadata": {
        "id": "pvJ0MGvYJUn0",
        "colab_type": "code",
        "colab": {
          "base_uri": "https://localhost:8080/",
          "height": 136
        },
        "outputId": "e7ec0ec7-2212-4a35-db1e-3943dcb2a03d"
      },
      "source": [
        "pip install matplotlib"
      ],
      "execution_count": 2,
      "outputs": [
        {
          "output_type": "stream",
          "text": [
            "Requirement already satisfied: matplotlib in /usr/local/lib/python3.6/dist-packages (3.2.1)\n",
            "Requirement already satisfied: kiwisolver>=1.0.1 in /usr/local/lib/python3.6/dist-packages (from matplotlib) (1.2.0)\n",
            "Requirement already satisfied: python-dateutil>=2.1 in /usr/local/lib/python3.6/dist-packages (from matplotlib) (2.8.1)\n",
            "Requirement already satisfied: cycler>=0.10 in /usr/local/lib/python3.6/dist-packages (from matplotlib) (0.10.0)\n",
            "Requirement already satisfied: numpy>=1.11 in /usr/local/lib/python3.6/dist-packages (from matplotlib) (1.18.3)\n",
            "Requirement already satisfied: pyparsing!=2.0.4,!=2.1.2,!=2.1.6,>=2.0.1 in /usr/local/lib/python3.6/dist-packages (from matplotlib) (2.4.7)\n",
            "Requirement already satisfied: six>=1.5 in /usr/local/lib/python3.6/dist-packages (from python-dateutil>=2.1->matplotlib) (1.12.0)\n"
          ],
          "name": "stdout"
        }
      ]
    },
    {
      "cell_type": "code",
      "metadata": {
        "id": "43HQfp2kJZ7e",
        "colab_type": "code",
        "colab": {}
      },
      "source": [
        "import umap.umap_ as umap\n",
        "import matplotlib.pyplot as plt"
      ],
      "execution_count": 0,
      "outputs": []
    },
    {
      "cell_type": "code",
      "metadata": {
        "id": "ULyDU85qJcPu",
        "colab_type": "code",
        "colab": {}
      },
      "source": [
        "reducer = umap.UMAP(n_neighbors = 5)"
      ],
      "execution_count": 0,
      "outputs": []
    },
    {
      "cell_type": "code",
      "metadata": {
        "id": "w6dD2PEjJgTs",
        "colab_type": "code",
        "colab": {}
      },
      "source": [
        "clusterable_embedding = reducer.fit_transform(df_covid['abs_embeddings'])\n",
        "#or cluster text body\n",
        "plt.figure(figsize=(12,8))\n",
        "plt.scatter(clusterable_embedding[:,0],clusterable_embedding[:,1])\n",
        "clusterable_embedding.shape\n",
        "print(clusterable_embedding)"
      ],
      "execution_count": 0,
      "outputs": []
    },
    {
      "cell_type": "code",
      "metadata": {
        "id": "LvaT51FsJs0e",
        "colab_type": "code",
        "colab": {}
      },
      "source": [
        "clusterable_embedding.shape # should be(xx,2)"
      ],
      "execution_count": 0,
      "outputs": []
    },
    {
      "cell_type": "markdown",
      "metadata": {
        "id": "vJsAfKKSJ5T9",
        "colab_type": "text"
      },
      "source": [
        "Clustering using HDBSCAN"
      ]
    },
    {
      "cell_type": "code",
      "metadata": {
        "id": "q4lV_67GJw8G",
        "colab_type": "code",
        "colab": {}
      },
      "source": [
        "!pip install hdbscan"
      ],
      "execution_count": 0,
      "outputs": []
    },
    {
      "cell_type": "code",
      "metadata": {
        "id": "prSmbdqLQAyr",
        "colab_type": "code",
        "colab": {}
      },
      "source": [
        "import hdbscan\n",
        "import numpy as np\n",
        "import seaborn as sns\n",
        "import pandas as pd"
      ],
      "execution_count": 0,
      "outputs": []
    },
    {
      "cell_type": "code",
      "metadata": {
        "id": "MWK0W4uqQG6g",
        "colab_type": "code",
        "colab": {}
      },
      "source": [
        "clusterable_embedding"
      ],
      "execution_count": 0,
      "outputs": []
    },
    {
      "cell_type": "code",
      "metadata": {
        "id": "JQXaJc6nQJbt",
        "colab_type": "code",
        "colab": {}
      },
      "source": [
        "clusterer = hdbscan.HDBSCAN(min_cluster_size=2, gen_min_span_tree=True)\n",
        "clusterer=clusterer.fit(clusterable_embedding)\n",
        " "
      ],
      "execution_count": 0,
      "outputs": []
    },
    {
      "cell_type": "code",
      "metadata": {
        "id": "WrNpwclNQL_I",
        "colab_type": "code",
        "colab": {}
      },
      "source": [
        "#Build the minimum spanning tree\n",
        "clusterer.minimum_spanning_tree_.plot(edge_cmap='viridis',\n",
        "                                      edge_alpha=0.6,\n",
        "                                      node_size=80,\n",
        "                                      edge_linewidth=2)"
      ],
      "execution_count": 0,
      "outputs": []
    },
    {
      "cell_type": "code",
      "metadata": {
        "id": "BxrmbmdYQOWn",
        "colab_type": "code",
        "colab": {}
      },
      "source": [
        "#Build the cluster hierarchy\n",
        "clusterer.single_linkage_tree_.plot(cmap='viridis', colorbar=True)"
      ],
      "execution_count": 0,
      "outputs": []
    },
    {
      "cell_type": "code",
      "metadata": {
        "id": "6J6q0Iu3QQ2Q",
        "colab_type": "code",
        "colab": {}
      },
      "source": [
        "#Condense the cluster tree\n",
        "clusterer.condensed_tree_.plot()"
      ],
      "execution_count": 0,
      "outputs": []
    },
    {
      "cell_type": "code",
      "metadata": {
        "id": "WoNfysxYQTbI",
        "colab_type": "code",
        "colab": {}
      },
      "source": [
        "#Extract the clusters\n",
        "clusterer.condensed_tree_.plot(select_clusters=True, selection_palette=sns.color_palette())"
      ],
      "execution_count": 0,
      "outputs": []
    },
    {
      "cell_type": "code",
      "metadata": {
        "id": "Gkb_XZgWQW1Q",
        "colab_type": "code",
        "colab": {}
      },
      "source": [
        "#clusterer = hdbscan.HDBSCAN(min_cluster_size=10, prediction_data=True).fit(clusterable_embedding)\n",
        "color_palette = sns.color_palette('Paired',max(clusterer.labels_))\n",
        "cluster_colors = [color_palette[x] if x >= 0 and x<max(clusterer.labels_)\n",
        "                  else (0.5, 0.5, 0.5)\n",
        "                  for x in clusterer.labels_]\n",
        "cluster_member_colors = [sns.desaturate(x, p) for x, p in\n",
        "                        zip(cluster_colors, clusterer.probabilities_)]\n",
        "plt.scatter(*clusterable_embedding.T, s=50, linewidth=0, c=cluster_member_colors, alpha=0.25)"
      ],
      "execution_count": 0,
      "outputs": []
    },
    {
      "cell_type": "code",
      "metadata": {
        "id": "tkdIfHlaQaxo",
        "colab_type": "code",
        "colab": {}
      },
      "source": [
        "clusterable_embedding.T[0]\n",
        "clusterable_embedding.T[1]"
      ],
      "execution_count": 0,
      "outputs": []
    },
    {
      "cell_type": "code",
      "metadata": {
        "id": "ln4dX4g3Q1nS",
        "colab_type": "code",
        "colab": {}
      },
      "source": [
        "clusterer.labels_"
      ],
      "execution_count": 0,
      "outputs": []
    },
    {
      "cell_type": "code",
      "metadata": {
        "id": "cIs4N1VVQ4NA",
        "colab_type": "code",
        "colab": {}
      },
      "source": [
        "len(clusterer.labels_)"
      ],
      "execution_count": 0,
      "outputs": []
    },
    {
      "cell_type": "code",
      "metadata": {
        "id": "D_0obEV4Q6aB",
        "colab_type": "code",
        "colab": {}
      },
      "source": [
        "json_text['cluster_textbody']=clusterer.labels_\n"
      ],
      "execution_count": 0,
      "outputs": []
    },
    {
      "cell_type": "code",
      "metadata": {
        "id": "q0yKkUdIQ8j8",
        "colab_type": "code",
        "colab": {}
      },
      "source": [
        "max(clusterer.labels_)"
      ],
      "execution_count": 0,
      "outputs": []
    },
    {
      "cell_type": "code",
      "metadata": {
        "id": "vY2PCDP1Q-iq",
        "colab_type": "code",
        "colab": {}
      },
      "source": [
        "max(json_text['cluster_textbody'])"
      ],
      "execution_count": 0,
      "outputs": []
    },
    {
      "cell_type": "code",
      "metadata": {
        "id": "RvLFctaCRAfy",
        "colab_type": "code",
        "colab": {}
      },
      "source": [
        "grouped=json_text.groupby('cluster_textbody')\n",
        "for gp_name, gp in grouped:\n",
        "    display(gp)"
      ],
      "execution_count": 0,
      "outputs": []
    },
    {
      "cell_type": "markdown",
      "metadata": {
        "id": "31o03fEeRERD",
        "colab_type": "text"
      },
      "source": [
        "Clustering using Kmeans"
      ]
    },
    {
      "cell_type": "code",
      "metadata": {
        "id": "T0aqyg3ERJ_B",
        "colab_type": "code",
        "colab": {}
      },
      "source": [
        "from sklearn.cluster import KMeans"
      ],
      "execution_count": 0,
      "outputs": []
    },
    {
      "cell_type": "code",
      "metadata": {
        "id": "P3R16u1sRMBZ",
        "colab_type": "code",
        "colab": {}
      },
      "source": [
        "kmeans = KMeans(n_clusters=6, random_state=0).fit_predict(df_covid['abs_embeddings'])\n",
        "kmeans"
      ],
      "execution_count": 0,
      "outputs": []
    },
    {
      "cell_type": "code",
      "metadata": {
        "id": "-_6TWStfRkjq",
        "colab_type": "code",
        "colab": {}
      },
      "source": [
        "plt.scatter(clusterable_embedding[:,0],clusterable_embedding[:,1], c=kmeans, cmap='rainbow')"
      ],
      "execution_count": 0,
      "outputs": []
    },
    {
      "cell_type": "markdown",
      "metadata": {
        "id": "EANI0aloR0HJ",
        "colab_type": "text"
      },
      "source": [
        "Topic Modeling on Each Cluster using LDA"
      ]
    },
    {
      "cell_type": "code",
      "metadata": {
        "id": "kkl2_9l0ePxD",
        "colab_type": "code",
        "colab": {}
      },
      "source": [
        "from sklearn.decomposition import  LatentDirichletAllocation"
      ],
      "execution_count": 0,
      "outputs": []
    },
    {
      "cell_type": "code",
      "metadata": {
        "id": "rGm_j_YiR9o7",
        "colab_type": "code",
        "colab": {}
      },
      "source": [
        "no_topics = 15\n",
        "lda = LatentDirichletAllocation(n_components=no_topics).fit(clusterable_embedding) # not sure whether work"
      ],
      "execution_count": 0,
      "outputs": []
    },
    {
      "cell_type": "code",
      "metadata": {
        "id": "cwSdtz_Pe89X",
        "colab_type": "code",
        "colab": {}
      },
      "source": [
        "#extract topics\n",
        "def display_topics(model, feature_names, no_top_words):\n",
        "    topics=[]\n",
        "    for topic_idx, topic in enumerate(model.components_):\n",
        "        #print (\"Topic %d:\" % (topic_idx))\n",
        "        topic_words=\" \".join([feature_names[i] for i in topic.argsort()[:-no_top_words - 1:-1]])\n",
        "        #print(topic_words)\n",
        "        topics.append(topic_words)\n",
        "    return topics\n",
        "\n"
      ],
      "execution_count": 0,
      "outputs": []
    },
    {
      "cell_type": "code",
      "metadata": {
        "id": "EQx5PtOsfCfY",
        "colab_type": "code",
        "colab": {}
      },
      "source": [
        "no_top_words = 5\n",
        "\n",
        "#print(\"\\nLDA: \")\n",
        "#feature_name=\n",
        "topics_lda=display_topics(lda, feature_name, no_top_words)  #get feature name from first\n",
        "\n",
        "#print(topics_lda)\n",
        "\n"
      ],
      "execution_count": 0,
      "outputs": []
    },
    {
      "cell_type": "code",
      "metadata": {
        "id": "bm-7rEjDfMoh",
        "colab_type": "code",
        "colab": {
          "base_uri": "https://localhost:8080/",
          "height": 215
        },
        "outputId": "44521c7f-880d-43bf-d3a9-72262da02567"
      },
      "source": [
        "pred_lda=lda.transform(body_text_encode)\n",
        "\n",
        "res_lda=[topics_lda[np.argmax(r)] for r in pred_lda]\n",
        "df_covid['topic_lda']=res_lda\n"
      ],
      "execution_count": 5,
      "outputs": [
        {
          "output_type": "error",
          "ename": "NameError",
          "evalue": "ignored",
          "traceback": [
            "\u001b[0;31m---------------------------------------------------------------------------\u001b[0m",
            "\u001b[0;31mNameError\u001b[0m                                 Traceback (most recent call last)",
            "\u001b[0;32m<ipython-input-5-93f341d92960>\u001b[0m in \u001b[0;36m<module>\u001b[0;34m()\u001b[0m\n\u001b[0;32m----> 1\u001b[0;31m \u001b[0mpred_lda\u001b[0m\u001b[0;34m=\u001b[0m\u001b[0mlda\u001b[0m\u001b[0;34m.\u001b[0m\u001b[0mtransform\u001b[0m\u001b[0;34m(\u001b[0m\u001b[0mbody_text_encode\u001b[0m\u001b[0;34m)\u001b[0m\u001b[0;34m\u001b[0m\u001b[0;34m\u001b[0m\u001b[0m\n\u001b[0m\u001b[1;32m      2\u001b[0m \u001b[0;34m\u001b[0m\u001b[0m\n\u001b[1;32m      3\u001b[0m \u001b[0mres_lda\u001b[0m\u001b[0;34m=\u001b[0m\u001b[0;34m[\u001b[0m\u001b[0mtopics_lda\u001b[0m\u001b[0;34m[\u001b[0m\u001b[0mnp\u001b[0m\u001b[0;34m.\u001b[0m\u001b[0margmax\u001b[0m\u001b[0;34m(\u001b[0m\u001b[0mr\u001b[0m\u001b[0;34m)\u001b[0m\u001b[0;34m]\u001b[0m \u001b[0;32mfor\u001b[0m \u001b[0mr\u001b[0m \u001b[0;32min\u001b[0m \u001b[0mpred_lda\u001b[0m\u001b[0;34m]\u001b[0m\u001b[0;34m\u001b[0m\u001b[0;34m\u001b[0m\u001b[0m\n\u001b[1;32m      4\u001b[0m \u001b[0mdf_covid\u001b[0m\u001b[0;34m[\u001b[0m\u001b[0;34m'topic_lda'\u001b[0m\u001b[0;34m]\u001b[0m\u001b[0;34m=\u001b[0m\u001b[0mres_lda\u001b[0m\u001b[0;34m\u001b[0m\u001b[0;34m\u001b[0m\u001b[0m\n",
            "\u001b[0;31mNameError\u001b[0m: name 'lda' is not defined"
          ]
        }
      ]
    },
    {
      "cell_type": "code",
      "metadata": {
        "id": "G0KhKXOkfPu_",
        "colab_type": "code",
        "colab": {}
      },
      "source": [
        "df_covid['topic_lda'][0:10]"
      ],
      "execution_count": 0,
      "outputs": []
    }
  ]
}